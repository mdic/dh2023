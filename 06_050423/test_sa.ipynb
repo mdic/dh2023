{
 "cells": [
  {
   "cell_type": "code",
   "execution_count": 1,
   "id": "40756be1-a944-49d6-a58b-37cebdb5d174",
   "metadata": {
    "tags": []
   },
   "outputs": [],
   "source": [
    "from vaderSentiment.vaderSentiment import SentimentIntensityAnalyzer\n",
    "\n",
    "analyzer = SentimentIntensityAnalyzer()"
   ]
  },
  {
   "cell_type": "code",
   "execution_count": 4,
   "id": "ec46e900-b67a-4118-a70c-1244b117cbaf",
   "metadata": {
    "tags": []
   },
   "outputs": [],
   "source": [
    "texts = [\"Perfect for a lunch/dinner for 2 persons . It fits a lot of meat 3-4 big steaks , comfortable to use , easy to clean . We use it at home and outside at parks sometimes . Good product\", \"I have a few Cuisinart products—all of the highest quality and reliability. The 14'' Gril is flimsy. The cooking surface tends to 'fall' from side to side. A little balancing act needs to be practiced. Very portable, and lightweight. As long as one takes care and cleans the product will do well.\", \"We bought this product to use at our winter home. What we liked was the portability and size. What we didn’t like was the airflow. It doesn’t have enough airflow with the lower air vents. They needed to be spaced out about 120* apart. There’s always a hot spot. No way to get even heat.\", \"over all this is a pretty nice little grill.the only thing for mine was that the top cooking rack does'nt fit as well as it should .my old grill had a heavier made rack that fit on it like it should so i solved that issue.its not that i could'nt have used the one it came with.i bought mine on sale and i am happy.i like the looks of it to.i gotta red lid one!!!\"]"
   ]
  },
  {
   "cell_type": "code",
   "execution_count": 6,
   "id": "f16e4037-9aca-453c-ad1c-808381ba5a79",
   "metadata": {
    "tags": []
   },
   "outputs": [
    {
     "name": "stdout",
     "output_type": "stream",
     "text": [
      "Perfect for a lunch/dinner for 2 persons . It fits a lot of meat 3-4 big steaks , comfortable to use , easy to clean . We use it at home and outside at parks sometimes . Good product | {'neg': 0.0, 'neu': 0.687, 'pos': 0.313, 'compound': 0.9382}\n",
      "I have a few Cuisinart products—all of the highest quality and reliability. The 14'' Gril is flimsy. The cooking surface tends to 'fall' from side to side. A little balancing act needs to be practiced. Very portable, and lightweight. As long as one takes care and cleans the product will do well. | {'neg': 0.0, 'neu': 0.904, 'pos': 0.096, 'compound': 0.6486}\n",
      "We bought this product to use at our winter home. What we liked was the portability and size. What we didn’t like was the airflow. It doesn’t have enough airflow with the lower air vents. They needed to be spaced out about 120* apart. There’s always a hot spot. No way to get even heat. | {'neg': 0.072, 'neu': 0.84, 'pos': 0.087, 'compound': 0.2263}\n",
      "over all this is a pretty nice little grill.the only thing for mine was that the top cooking rack does'nt fit as well as it should .my old grill had a heavier made rack that fit on it like it should so i solved that issue.its not that i could'nt have used the one it came with.i bought mine on sale and i am happy.i like the looks of it to.i gotta red lid one!!! | {'neg': 0.0, 'neu': 0.74, 'pos': 0.26, 'compound': 0.9645}\n"
     ]
    }
   ],
   "source": [
    "for text in texts:\n",
    "    sa_text = analyzer.polarity_scores(text)\n",
    "    negative = sa_text[\"neg\"]\n",
    "    neutral = sa_text[\"neu\"]\n",
    "    positive = sa_text[\"pos\"]\n",
    "    compound = sa_text[\"compound\"]\n",
    "    print(f\"{text} | {sa_text}\")"
   ]
  },
  {
   "cell_type": "code",
   "execution_count": null,
   "id": "5980fa8c-1e9e-49ef-a849-07ed2b79dacb",
   "metadata": {},
   "outputs": [],
   "source": []
  }
 ],
 "metadata": {
  "kernelspec": {
   "display_name": "Python 3 (ipykernel)",
   "language": "python",
   "name": "python3"
  },
  "language_info": {
   "codemirror_mode": {
    "name": "ipython",
    "version": 3
   },
   "file_extension": ".py",
   "mimetype": "text/x-python",
   "name": "python",
   "nbconvert_exporter": "python",
   "pygments_lexer": "ipython3",
   "version": "3.10.10"
  }
 },
 "nbformat": 4,
 "nbformat_minor": 5
}
